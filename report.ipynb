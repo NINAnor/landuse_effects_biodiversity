{
  "cells": [
    {
      "cell_type": "raw",
      "metadata": {},
      "source": [
        "---\n",
        "title: \"Rapporten\"\n",
        "format: html\n",
        "editor: visual\n",
        "---"
      ],
      "id": "11ba9b24"
    },
    {
      "cell_type": "markdown",
      "metadata": {},
      "source": [
        "```{html}\n",
        "<iframe width=\"780\" height=\"500\" src=\"quarto_ninareport.html\" title=\"Rapport\"></iframe>\n",
        "```"
      ],
      "id": "32052d8e"
    }
  ],
  "metadata": {
    "kernelspec": {
      "display_name": "Python 3",
      "language": "python",
      "name": "python3"
    }
  },
  "nbformat": 4,
  "nbformat_minor": 5
}